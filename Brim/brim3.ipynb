{
 "cells": [
  {
   "cell_type": "markdown",
   "metadata": {},
   "source": [
    "# Importing Libraries"
   ]
  },
  {
   "cell_type": "code",
   "execution_count": 1,
   "metadata": {
    "hide_input": true
   },
   "outputs": [
    {
     "name": "stderr",
     "output_type": "stream",
     "text": [
      "C:\\Users\\JST\\anaconda3\\lib\\site-packages\\sklearn\\externals\\six.py:31: FutureWarning: The module is deprecated in version 0.21 and will be removed in version 0.23 since we've dropped support for Python 2.7. Please rely on the official version of six (https://pypi.org/project/six/).\n",
      "  \"(https://pypi.org/project/six/).\", FutureWarning)\n",
      "C:\\Users\\JST\\anaconda3\\lib\\site-packages\\sklearn\\utils\\deprecation.py:144: FutureWarning: The sklearn.neighbors.base module is  deprecated in version 0.22 and will be removed in version 0.24. The corresponding classes / functions should instead be imported from sklearn.neighbors. Anything that cannot be imported from sklearn.neighbors is now part of the private API.\n",
      "  warnings.warn(message, FutureWarning)\n"
     ]
    }
   ],
   "source": [
    "import matplotlib.pyplot as plt\n",
    "from scipy.stats import norm\n",
    "from scipy import stats\n",
    "import seaborn as sns\n",
    "import numpy as np\n",
    "import pandas as pd\n",
    "from sklearn.model_selection import train_test_split\n",
    "from sklearn import metrics\n",
    "%matplotlib inline\n",
    "pd.set_option('display.max_columns', 300)\n",
    "pd.set_option('display.max_rows', 950)\n",
    "from statsmodels.formula.api import ols\n",
    "from sklearn.preprocessing import StandardScaler\n",
    "from sklearn.tree import DecisionTreeClassifier\n",
    "from sklearn.metrics import accuracy_score, roc_curve, auc\n",
    "from sklearn import tree\n",
    "from IPython.display import Image\n",
    "from sklearn.metrics import confusion_matrix\n",
    "from sklearn.metrics import classification_report\n",
    "from sklearn.metrics import precision_score, recall_score, accuracy_score, f1_score\n",
    "\n",
    "import pydotplus\n",
    "from imblearn.over_sampling import SMOTE\n",
    "from tqdm import tqdm\n",
    "import time\n",
    "from sklearn.model_selection import train_test_split\n",
    "from sklearn.metrics import explained_variance_score\n",
    "from sklearn.metrics import mean_squared_error\n",
    "from sklearn.metrics import r2_score\n",
    "from sklearn.linear_model import LinearRegression\n",
    "from sklearn.metrics import mean_absolute_error\n",
    "from xgboost import XGBRegressor\n",
    "import xgboost as xgb\n",
    "import math\n",
    "from IPython.display import HTML\n",
    "from tabulate import tabulate\n",
    "\n",
    "from sklearn.ensemble import GradientBoostingRegressor\n",
    "from sklearn.ensemble import RandomForestRegressor\n",
    "from sklearn.ensemble import VotingRegressor\n",
    "\n",
    "\n",
    "import matplotlib.pyplot as plt\n",
    "from mlxtend.plotting import scatterplotmatrix"
   ]
  },
  {
   "cell_type": "markdown",
   "metadata": {},
   "source": [
    "# 1.Viðskipti á markaði"
   ]
  },
  {
   "cell_type": "code",
   "execution_count": 2,
   "metadata": {
    "hide_input": true
   },
   "outputs": [
    {
     "data": {
      "text/plain": [
       "Text(0, 0.5, 'Prósenta á markað')"
      ]
     },
     "execution_count": 2,
     "metadata": {},
     "output_type": "execute_result"
    },
    {
     "data": {
      "image/png": "[encoded data removed]",
      "text/plain": [
       "<Figure size 432x288 with 1 Axes>"
      ]
     },
     "metadata": {
      "needs_background": "light"
     },
     "output_type": "display_data"
    }
   ],
   "source": [
    "xl = pd.ExcelFile(\"R:\\\\Ráðgjöf\\\\Brim\\\\Yfirlit_uthlutun_1920.xlsx\")\n",
    "df_uthlutun = xl.parse('Úthlutun snyrt') \n",
    "df_uthlutun\n",
    "\n",
    "\n",
    "df_uthlutun['p_17_18']=df_uthlutun['m_17_18']/df_uthlutun['Óslægt_17_18']/10\n",
    "df_uthlutun['p_18_19']=df_uthlutun['m_18_19']/df_uthlutun['Óslægt_18_19']/10\n",
    "df_uthlutun['p_19_20']=df_uthlutun['m_19_20']/df_uthlutun['Óslægt_19-20']/10\n",
    "\n",
    "\n",
    "df_uthlutun.head(5).plot(x=\"Kvótategund\",y=['p_17_18','p_18_19','p_19_20'], kind='bar')\n",
    "\n",
    "plt.xticks(rotation=45) \n",
    "plt.ylabel('Prósenta á markað')\n",
    "\n"
   ]
  },
  {
   "cell_type": "code",
   "execution_count": 3,
   "metadata": {
    "hide_input": true
   },
   "outputs": [
    {
     "data": {
      "text/plain": [
       "Text(0, 0.5, 'Prósenta á milli óskyldra aðila')"
      ]
     },
     "execution_count": 3,
     "metadata": {},
     "output_type": "execute_result"
    },
    {
     "data": {
      "image/png": "[encoded data removed]",
      "text/plain": [
       "<Figure size 432x288 with 1 Axes>"
      ]
     },
     "metadata": {
      "needs_background": "light"
     },
     "output_type": "display_data"
    }
   ],
   "source": [
    "xl = pd.ExcelFile(\"R:\\\\Ráðgjöf\\\\Brim\\\\toflur_og_talnagogn_2018_2019.xlsx\")\n",
    "df_flutningur = xl.parse('Flutningur_aflamarks_1819') \n",
    "\n",
    "\n",
    "df_flutningur['p_18_19']=df_flutningur['m_18_19']/df_flutningur['f_s_18_19']*100\n",
    "df_flutningur['p_17_18']=df_flutningur['m_17_18']/df_flutningur['f_s_17_18']*100\n",
    "df_flutningur['p_16_17']=df_flutningur['m_16_17']/df_flutningur['f_s_16_17']*100\n",
    "\n",
    "\n",
    "df_flutningur.head(5).plot(x=\"Kvótategund\",y=['p_16_17','p_17_18','p_18_19'], kind='bar')\n",
    "\n",
    "\n",
    "plt.xticks(rotation=45) \n",
    "plt.ylabel('Prósenta á milli óskyldra aðila')"
   ]
  },
  {
   "cell_type": "markdown",
   "metadata": {
    "hide_input": true
   },
   "source": [
    "## HHI útreikningar"
   ]
  },
  {
   "cell_type": "code",
   "execution_count": 4,
   "metadata": {
    "hide_input": false
   },
   "outputs": [
    {
     "name": "stdout",
     "output_type": "stream",
     "text": [
      "Eigandi eftir samruna      Velta 2019    Hlutdeild    HHI.1\n",
      "Hagar                         80483.0         47.2   2225.3\n",
      "Festi                         42263.0         24.8    613.6\n",
      "Samkaup                       34000.0         19.9    397.1\n",
      "Skeljungur                     3865.0          2.3      5.1\n",
      "Costco                         7000.0          4.1     16.8\n",
      "Aðrir                          3000.0          1.8      3.1\n",
      "Samtals                      170611.0        100.0   3261.2\n"
     ]
    }
   ],
   "source": [
    "pd.options.display.float_format = '{:,.0f}'.format\n",
    "xl = pd.ExcelFile(\"R:\\\\Ráðgjöf\\\\Brim\\\\\\Samthjoppun_1920.xlsx\")\n",
    "df_matvara = xl.parse('matvara') \n",
    "df_matvara.iloc[:,4:8]\n",
    "\n",
    "print(tabulate(df_matvara.iloc[:,4:10].head(7), \n",
    "               showindex=False, \n",
    "               headers=df_matvara.iloc[:,4:10].columns,\n",
    "               tablefmt=\"plain\",\n",
    "              floatfmt=\".1f\"))\n"
   ]
  },
  {
   "cell_type": "code",
   "execution_count": null,
   "metadata": {},
   "outputs": [],
   "source": []
  },
  {
   "cell_type": "code",
   "execution_count": 5,
   "metadata": {
    "hide_input": true
   },
   "outputs": [
    {
     "name": "stdout",
     "output_type": "stream",
     "text": [
      "Banki           Heild %    Innlán %    HHI heild    HHI innlán\n",
      "Landsbanki           34          35         1156          1225\n",
      "Íslandsbanki         32          34         1024          1156\n",
      "Arionbanki           28          27          784           729\n",
      "Kvika                 3           4            9            16\n",
      "Aðrir                 3           0            9             0\n",
      "Samtals             100         100         2982          3126\n"
     ]
    }
   ],
   "source": [
    "xl = pd.ExcelFile(\"R:\\\\Ráðgjöf\\\\Brim\\\\\\Samthjoppun_1920.xlsx\")\n",
    "df_bankar = xl.parse('bankar') \n",
    "\n",
    "\n",
    "print(tabulate(df_bankar.head(7), \n",
    "               showindex=False, \n",
    "               headers=df_bankar.columns,\n",
    "               tablefmt=\"plain\",\n",
    "              floatfmt=\".1f\"))\n"
   ]
  },
  {
   "cell_type": "code",
   "execution_count": 6,
   "metadata": {
    "hide_input": true
   },
   "outputs": [],
   "source": [
    "\n",
    "pd.options.display.float_format = '{:,.1f}'.format\n",
    "\n",
    "\n",
    "xl = pd.ExcelFile(\"R:\\\\Ráðgjöf\\\\Brim\\\\Samthjoppun_1920_Huginn.xlsx\")\n",
    "df_fyrir = xl.parse('SÞ_fyrir') \n",
    "df_eftir = xl.parse('SÞ_eftir') \n",
    "df_eftir_kmb_grb = xl.parse('SÞ__eftir_kmb_grb') \n",
    "df_eftir_Hugin = xl.parse('SÞ__eftir_Hugin') \n",
    "df_hámörk = xl.parse('Hámörk')\n",
    "\n"
   ]
  },
  {
   "cell_type": "code",
   "execution_count": 7,
   "metadata": {
    "hide_input": true
   },
   "outputs": [],
   "source": [
    "df_fyrir = df_fyrir.drop([\"Röð\"],axis=1)\n",
    "df_fyrir = df_fyrir.drop(\"Samtals 434317446\",axis=1)\n",
    "\n",
    "df_eftir = df_eftir.drop([\"Röð\"],axis=1)\n",
    "df_eftir = df_eftir.drop(\"Samtals 434317446\",axis=1)\n",
    "\n",
    "df_eftir_kmb_grb = df_eftir_kmb_grb.drop([\"Röð\"],axis=1)\n",
    "df_eftir_kmb_grb = df_eftir_kmb_grb.drop(\"Samtals 434317446\",axis=1)\n",
    "\n",
    "df_eftir_Hugin = df_eftir_Hugin.drop([\"Röð\"],axis=1)\n",
    "df_eftir_Hugin = df_eftir_Hugin.drop(\"Samtals 434317446\",axis=1)\n",
    "\n",
    "\n",
    "df_fyrir.rename(columns = {'Hlutfall  %':'ÞÍG'}, inplace = True)\n",
    "df_eftir.rename(columns = {'Hlutfall  %':'ÞÍG'}, inplace = True)\n",
    "df_eftir_kmb_grb.rename(columns = {'Hlutfall  %':'ÞÍG'}, inplace = True)\n",
    "df_eftir_Hugin.rename(columns = {'Hlutfall  %':'ÞÍG'}, inplace = True)\n",
    "\n"
   ]
  },
  {
   "cell_type": "code",
   "execution_count": 8,
   "metadata": {
    "hide_input": true
   },
   "outputs": [],
   "source": [
    "fiskar=list(df_fyrir.columns)\n",
    "\n",
    "fiskar.remove('Eigandi')\n",
    "fiskar.remove('ÞÍG')\n"
   ]
  },
  {
   "cell_type": "code",
   "execution_count": 9,
   "metadata": {
    "hide_input": true,
    "scrolled": false
   },
   "outputs": [
    {
     "name": "stdout",
     "output_type": "stream",
     "text": [
      "HHI fyrir þorskígildistonn fyrir 8.september 2019: 478.6\n",
      "HHI fyrir þorskígildistonn eftir 8.september 2019: 604.5\n",
      "Hækkun á HHI fyrir þorskígildistonn fyrir og eftir 8.september 2019: 125.9\n",
      "HHI fyrir þorskígildistonn fyrir kaup á Kambi og Grábrók: 604.5\n",
      "HHI fyrir þorskígildistonn eftir 8.september 2019: 627.4\n",
      "Hækkun á HHI fyrir þorskígildistonn fyrir og eftir 8.september 2019: 23.0\n"
     ]
    },
    {
     "data": {
      "text/html": [
       "<div>\n",
       "<style scoped>\n",
       "    .dataframe tbody tr th:only-of-type {\n",
       "        vertical-align: middle;\n",
       "    }\n",
       "\n",
       "    .dataframe tbody tr th {\n",
       "        vertical-align: top;\n",
       "    }\n",
       "\n",
       "    .dataframe thead th {\n",
       "        text-align: right;\n",
       "    }\n",
       "</style>\n",
       "<table border=\"1\" class=\"dataframe\">\n",
       "  <thead>\n",
       "    <tr style=\"text-align: right;\">\n",
       "      <th></th>\n",
       "      <th>Eigandi fyrir</th>\n",
       "      <th>ÞÍG (%)</th>\n",
       "      <th>Framlag til HHI</th>\n",
       "      <th>Eigandi eftir</th>\n",
       "      <th>ÞÍG (%)</th>\n",
       "      <th>Framlag til HHI</th>\n",
       "      <th>Eigandi</th>\n",
       "      <th>ÞÍG eftir_kmb_grb</th>\n",
       "      <th>HHI eftir_kmb_grb</th>\n",
       "    </tr>\n",
       "  </thead>\n",
       "  <tbody>\n",
       "    <tr>\n",
       "      <th>0</th>\n",
       "      <td>Brim + ÖV</td>\n",
       "      <td>11.8</td>\n",
       "      <td>138.2</td>\n",
       "      <td>Brim + ÖV+ÚR+KG</td>\n",
       "      <td>16.8</td>\n",
       "      <td>280.9</td>\n",
       "      <td>Brim + ÖV+ÚR+KG+KB+GB</td>\n",
       "      <td>17.4</td>\n",
       "      <td>304.1</td>\n",
       "    </tr>\n",
       "    <tr>\n",
       "      <th>1</th>\n",
       "      <td>Samherji+ Sæból+ÚA</td>\n",
       "      <td>9.1</td>\n",
       "      <td>82.3</td>\n",
       "      <td>Samherji+ Sæból+ÚA</td>\n",
       "      <td>9.1</td>\n",
       "      <td>82.3</td>\n",
       "      <td>Samherji+ Sæból+ÚA</td>\n",
       "      <td>9.1</td>\n",
       "      <td>82.3</td>\n",
       "    </tr>\n",
       "    <tr>\n",
       "      <th>2</th>\n",
       "      <td>FISK + SC</td>\n",
       "      <td>5.6</td>\n",
       "      <td>30.9</td>\n",
       "      <td>FISK + SC</td>\n",
       "      <td>5.6</td>\n",
       "      <td>30.9</td>\n",
       "      <td>FISK + SC</td>\n",
       "      <td>5.6</td>\n",
       "      <td>30.9</td>\n",
       "    </tr>\n",
       "    <tr>\n",
       "      <th>3</th>\n",
       "      <td>Síldarvinnslan + BH +RH</td>\n",
       "      <td>8.1</td>\n",
       "      <td>65.9</td>\n",
       "      <td>Síldarvinnslan + BH +RH</td>\n",
       "      <td>8.1</td>\n",
       "      <td>65.9</td>\n",
       "      <td>Síldarvinnslan + BH +RH</td>\n",
       "      <td>8.1</td>\n",
       "      <td>65.9</td>\n",
       "    </tr>\n",
       "    <tr>\n",
       "      <th>4</th>\n",
       "      <td>Vinnslustöðin hf.</td>\n",
       "      <td>5.0</td>\n",
       "      <td>25.3</td>\n",
       "      <td>Vinnslustöðin hf.</td>\n",
       "      <td>5.0</td>\n",
       "      <td>25.3</td>\n",
       "      <td>Vinnslustöðin hf.</td>\n",
       "      <td>5.0</td>\n",
       "      <td>25.3</td>\n",
       "    </tr>\n",
       "    <tr>\n",
       "      <th>5</th>\n",
       "      <td>Þorbjörn hf.</td>\n",
       "      <td>4.8</td>\n",
       "      <td>23.1</td>\n",
       "      <td>Þorbjörn hf.</td>\n",
       "      <td>4.8</td>\n",
       "      <td>23.1</td>\n",
       "      <td>Þorbjörn hf.</td>\n",
       "      <td>4.8</td>\n",
       "      <td>23.1</td>\n",
       "    </tr>\n",
       "    <tr>\n",
       "      <th>6</th>\n",
       "      <td>Skinney-Þinganes hf.</td>\n",
       "      <td>4.2</td>\n",
       "      <td>17.8</td>\n",
       "      <td>Skinney-Þinganes hf.</td>\n",
       "      <td>4.2</td>\n",
       "      <td>17.8</td>\n",
       "      <td>Skinney-Þinganes hf.</td>\n",
       "      <td>4.2</td>\n",
       "      <td>17.8</td>\n",
       "    </tr>\n",
       "    <tr>\n",
       "      <th>7</th>\n",
       "      <td>Útgerðarfélag Reykjavíkur hf.</td>\n",
       "      <td>4.0</td>\n",
       "      <td>15.7</td>\n",
       "      <td>Ísfélag Vestmannaeyja hf.</td>\n",
       "      <td>3.8</td>\n",
       "      <td>14.4</td>\n",
       "      <td>Ísfélag Vestmannaeyja hf.</td>\n",
       "      <td>3.8</td>\n",
       "      <td>14.4</td>\n",
       "    </tr>\n",
       "  </tbody>\n",
       "</table>\n",
       "</div>"
      ],
      "text/plain": [
       "                   Eigandi fyrir  ÞÍG (%)  Framlag til HHI  \\\n",
       "0                      Brim + ÖV     11.8            138.2   \n",
       "1             Samherji+ Sæból+ÚA      9.1             82.3   \n",
       "2                      FISK + SC      5.6             30.9   \n",
       "3        Síldarvinnslan + BH +RH      8.1             65.9   \n",
       "4              Vinnslustöðin hf.      5.0             25.3   \n",
       "5                   Þorbjörn hf.      4.8             23.1   \n",
       "6           Skinney-Þinganes hf.      4.2             17.8   \n",
       "7  Útgerðarfélag Reykjavíkur hf.      4.0             15.7   \n",
       "\n",
       "               Eigandi eftir  ÞÍG (%)  Framlag til HHI  \\\n",
       "0            Brim + ÖV+ÚR+KG     16.8            280.9   \n",
       "1         Samherji+ Sæból+ÚA      9.1             82.3   \n",
       "2                  FISK + SC      5.6             30.9   \n",
       "3    Síldarvinnslan + BH +RH      8.1             65.9   \n",
       "4          Vinnslustöðin hf.      5.0             25.3   \n",
       "5               Þorbjörn hf.      4.8             23.1   \n",
       "6       Skinney-Þinganes hf.      4.2             17.8   \n",
       "7  Ísfélag Vestmannaeyja hf.      3.8             14.4   \n",
       "\n",
       "                     Eigandi  ÞÍG eftir_kmb_grb  HHI eftir_kmb_grb  \n",
       "0      Brim + ÖV+ÚR+KG+KB+GB               17.4              304.1  \n",
       "1         Samherji+ Sæból+ÚA                9.1               82.3  \n",
       "2                  FISK + SC                5.6               30.9  \n",
       "3    Síldarvinnslan + BH +RH                8.1               65.9  \n",
       "4          Vinnslustöðin hf.                5.0               25.3  \n",
       "5               Þorbjörn hf.                4.8               23.1  \n",
       "6       Skinney-Þinganes hf.                4.2               17.8  \n",
       "7  Ísfélag Vestmannaeyja hf.                3.8               14.4  "
      ]
     },
     "execution_count": 9,
     "metadata": {},
     "output_type": "execute_result"
    }
   ],
   "source": [
    "HHI_fyrir=df_fyrir.ÞÍG.multiply(100).pow(2).sum()\n",
    "HHI_eftir=df_eftir.ÞÍG.multiply(100).pow(2).sum()\n",
    "HHI_eftir_kmb_grb=df_eftir_kmb_grb.ÞÍG.multiply(100).pow(2).sum()\n",
    "HHI_eftir_Hugin=df_eftir_Hugin.ÞÍG.multiply(100).pow(2).sum()\n",
    "\n",
    "\n",
    "HHI_mismunur=HHI_eftir - HHI_fyrir\n",
    "HHI_mismunur_kmb_grb =HHI_eftir_kmb_grb-HHI_eftir\n",
    "HHI_mismunur_Hugin =HHI_eftir_Hugin-HHI_eftir_kmb_grb\n",
    "\n",
    "CR4_fyrir = df_fyrir.ÞÍG.multiply(100).head(3).sum()\n",
    "CR4_eftir = df_eftir.ÞÍG.multiply(100).head(3).sum()\n",
    "\n",
    "print(\"HHI fyrir þorskígildistonn fyrir 8.september 2019:\",\"%.1f\" % HHI_fyrir)\n",
    "print(\"HHI fyrir þorskígildistonn eftir 8.september 2019:\",\"%.1f\" % HHI_eftir)\n",
    "print(\"Hækkun á HHI fyrir þorskígildistonn fyrir og eftir 8.september 2019:\",\"%.1f\" % HHI_mismunur)\n",
    "\n",
    "print(\"HHI fyrir þorskígildistonn fyrir kaup á Kambi og Grábrók:\",\"%.1f\" % HHI_eftir)\n",
    "print(\"HHI fyrir þorskígildistonn eftir 8.september 2019:\",\"%.1f\" % HHI_eftir_kmb_grb)\n",
    "print(\"Hækkun á HHI fyrir þorskígildistonn fyrir og eftir 8.september 2019:\",\"%.1f\" % HHI_mismunur_kmb_grb)\n",
    "\n",
    "#Töflur búnar til fyrir skýrslu:\n",
    "t_fyrir=df_fyrir\n",
    "t_fyrir['ÞÍG']=df_fyrir.ÞÍG.multiply(100)\n",
    "t_fyrir['HHI']=df_fyrir.ÞÍG.pow(2)\n",
    "t_fyrir = t_fyrir.drop(t_fyrir.iloc[:,2:32], axis=1)\n",
    "t_fyrir.head(4)\n",
    "\n",
    "t_eftir=df_eftir\n",
    "t_eftir['ÞÍG']=df_eftir.ÞÍG.multiply(100)\n",
    "t_eftir['HHI']=df_eftir.ÞÍG.pow(2)\n",
    "t_eftir = t_eftir.drop(t_eftir.iloc[:,2:32], axis=1)\n",
    "t_eftir.head(8)\n",
    "\n",
    "t_eftir_kmb_grb=df_eftir_kmb_grb\n",
    "t_eftir_kmb_grb['ÞÍG']=df_eftir_kmb_grb.ÞÍG.multiply(100)\n",
    "t_eftir_kmb_grb['HHI']=df_eftir_kmb_grb.ÞÍG.pow(2)\n",
    "t_eftir_kmb_grb = t_eftir_kmb_grb.drop(t_eftir_kmb_grb.iloc[:,2:32], axis=1)\n",
    "t_eftir_kmb_grb.head(8)\n",
    "\n",
    "\n",
    "t_saman = pd.concat([t_fyrir, t_eftir,t_eftir_kmb_grb], axis=1)\n",
    "\n",
    "t_saman.columns=['Eigandi fyrir','ÞÍG (%)','Framlag til HHI','Eigandi eftir', 'ÞÍG (%)','Framlag til HHI','Eigandi','ÞÍG eftir_kmb_grb','HHI eftir_kmb_grb']\n",
    "\n",
    "t_saman.head(8)\n"
   ]
  },
  {
   "cell_type": "code",
   "execution_count": 10,
   "metadata": {},
   "outputs": [
    {
     "name": "stdout",
     "output_type": "stream",
     "text": [
      "            HHI_fyrir    HHI_eftir    HHI breyting    cr8_fyrir    cr8_eftir    cr8 breyting\n",
      "Síld           1374.8       1433.9            59.1         95.6         97.8             2.2\n",
      "Loðna          1423.7       1456.3            32.6         93.5         94.9             1.4\n",
      "Kolmunni       2018.3       2067.1            48.8         96.1         99.2             3.1\n",
      "Makríll        1054.8       1402.0           347.2         81.0         91.0            10.0\n",
      "NÍ-síld        1472.3       1588.6           116.2         95.1         99.6             4.6\n"
     ]
    }
   ],
   "source": [
    "HHI_listi=[]\n",
    "\n",
    "for fiskur in fiskar:\n",
    "\n",
    "    df_fyrir=df_fyrir.sort_values(by=[fiskur],ascending=False)\n",
    "    df_eftir=df_eftir.sort_values(by=[fiskur],ascending=False)\n",
    "    \n",
    "    cr4_fyrir=df_fyrir[fiskur].head(3).sum()\n",
    "    cr4_eftir=df_eftir[fiskur].head(3).sum()\n",
    "    cr4_mismunur=cr4_eftir-cr4_fyrir\n",
    "    \n",
    "    cr8_fyrir=df_fyrir[fiskur].head(7).sum()\n",
    "    cr8_eftir=df_eftir[fiskur].head(7).sum()\n",
    "    cr8_mismunur=cr8_eftir-cr8_fyrir\n",
    "    \n",
    "    \n",
    "    HHI_fyrir=df_fyrir[fiskur].pow(2).sum()\n",
    "    HHI_eftir=df_eftir[fiskur].pow(2).sum()\n",
    "    \n",
    "    \n",
    "\n",
    "    HHI_mismunur=HHI_eftir - HHI_fyrir\n",
    "    HHI_mismunur\n",
    "    HHI_listi.append( [HHI_fyrir, HHI_eftir, HHI_mismunur,\n",
    "                      cr8_fyrir,cr8_eftir,cr8_mismunur]) \n",
    "    \n",
    "df4 = pd.DataFrame(HHI_listi, columns = ['HHI_fyrir', 'HHI_eftir', 'HHI breyting',\n",
    "                                         'cr8_fyrir','cr8_eftir', 'cr8 breyting'],index=fiskar)\n",
    "\n",
    "df4.drop([\"Þorskur\",\"Ýsa\",\"Ufsi\",\"Gullkarfi\",\"Grálúða\",\"Skrápflúra\",\"Hlýri\", \"Sandkoli\", \"Skötuselur\", \"Blálanga\",\"Litli karfi\",\"Úthafskarfi\",\\\n",
    "          \"Langlúra\",\"Þykkvalúra\", \"Keila\", \"Langa\",\"Skarkoli\",\"Steinbítur\",\"Úthafsrækja\", \"Rækja við Snæf.nes\",\\\n",
    "         \"Arnarfj.rækja\",\"Rækja í Djúpi\", \"Humar\",\"Gulllax\",\"Djúpkarfi\"],axis=0, inplace=True)\n",
    "pd.options.display.float_format = '{:,.0f}'.format\n",
    "print(tabulate(df4.head(7),  \n",
    "               headers=df4.columns,\n",
    "               tablefmt=\"plain\",\n",
    "              floatfmt=\".1f\"))\n",
    "\n",
    "\n",
    "\n",
    "\n",
    "\n"
   ]
  },
  {
   "cell_type": "code",
   "execution_count": 11,
   "metadata": {},
   "outputs": [
    {
     "name": "stdout",
     "output_type": "stream",
     "text": [
      "            HHI fyrir Hugin    HHI eftir Hugin    HHI breyting    cr8 fyrir Hugin    cr8 eftir Hugin    cr8 breyting\n",
      "Síld                 1374.8             1433.4            58.5               95.6               97.8             2.2\n",
      "Loðna                1423.7             1456.3            32.6               93.5               94.9             1.4\n",
      "Kolmunni             2018.3             2066.9            48.6               96.1               99.2             3.1\n",
      "Makríll              1154.8             1403.8           249.0               84.4               91.0             6.6\n",
      "NÍ-síld              1472.3             1591.3           118.9               95.1               99.7             4.7\n"
     ]
    }
   ],
   "source": [
    "HHI_listi=[]\n",
    "\n",
    "for fiskur in fiskar:\n",
    "\n",
    "    df_eftir_kmb_grb=df_eftir_kmb_grb.sort_values(by=[fiskur],ascending=False)\n",
    "    df_eftir_Hugin=df_eftir_Hugin.sort_values(by=[fiskur],ascending=False)\n",
    "    \n",
    "    cr4_eftir_kmb_grb=df_eftir_kmb_grb[fiskur].head(3).sum()\n",
    "    cr4_eftir_Hugin=df_eftir_Hugin[fiskur].head(3).sum()\n",
    "    cr4_mismunur=cr4_eftir_Hugin-cr4_eftir_kmb_grb\n",
    "    \n",
    "    cr8_eftir_kmb_grb=df_eftir_kmb_grb[fiskur].head(7).sum()\n",
    "    cr8_eftir_Hugin=df_eftir_Hugin[fiskur].head(7).sum()\n",
    "    cr8_mismunur=cr8_eftir_Hugin-cr8_eftir_kmb_grb\n",
    "    \n",
    "    \n",
    "    HHI_eftir_kmb_grb=df_eftir_kmb_grb[fiskur].pow(2).sum()\n",
    "    HHI_eftir_Hugin=df_eftir_Hugin[fiskur].pow(2).sum()\n",
    "    \n",
    "    \n",
    "\n",
    "    HHI_mismunur=HHI_eftir_Hugin - HHI_eftir_kmb_grb\n",
    "    HHI_mismunur\n",
    "    HHI_listi.append( [HHI_eftir_kmb_grb, HHI_eftir_Hugin, HHI_mismunur,\n",
    "                      cr8_eftir_kmb_grb,cr8_eftir_Hugin,cr8_mismunur]) \n",
    "    \n",
    "df4 = pd.DataFrame(HHI_listi, columns = ['HHI fyrir Hugin', 'HHI eftir Hugin', 'HHI breyting',\n",
    "                                         'cr8 fyrir Hugin','cr8 eftir Hugin', 'cr8 breyting'],index=fiskar)\n",
    "\n",
    "df4.drop([\"Þorskur\",\"Ýsa\",\"Ufsi\",\"Gullkarfi\",\"Grálúða\",\"Skrápflúra\",\"Hlýri\", \"Sandkoli\", \"Skötuselur\", \"Blálanga\",\"Litli karfi\",\"Úthafskarfi\",\\\n",
    "          \"Langlúra\",\"Þykkvalúra\", \"Keila\", \"Langa\",\"Skarkoli\",\"Steinbítur\",\"Úthafsrækja\", \"Rækja við Snæf.nes\",\\\n",
    "         \"Arnarfj.rækja\",\"Rækja í Djúpi\", \"Humar\",\"Gulllax\",\"Djúpkarfi\"],axis=0, inplace=True)\n",
    "pd.options.display.float_format = '{:,.0f}'.format\n",
    "print(tabulate(df4.head(7),  \n",
    "               headers=df4.columns,\n",
    "               tablefmt=\"plain\",\n",
    "              floatfmt=\".1f\"))\n"
   ]
  },
  {
   "cell_type": "markdown",
   "metadata": {},
   "source": [
    "# Aðfallslíkön"
   ]
  },
  {
   "cell_type": "markdown",
   "metadata": {},
   "source": [
    "# Gögn undirbúin fyrir regression"
   ]
  },
  {
   "cell_type": "code",
   "execution_count": 21,
   "metadata": {},
   "outputs": [],
   "source": [
    "xl = pd.ExcelFile(\"R:\\\\Ráðgjöf\\\\Brim\\\\fish_prices.xlsx\")\n",
    "df_fish_prices = xl.parse('Þorskur') \n",
    "\n",
    "#df_fish_prices.sort_values('viðskiptaverð_isk',inplace=True)\n",
    "\n",
    "df_fish_prices.reset_index(inplace=True, drop=True)\n",
    "\n",
    "X=df_fish_prices.loc[:,'erlent_verð_isk':'olíuverð_isk']\n",
    "Y=df_fish_prices['viðskiptaverð_isk']\n",
    "\n",
    "\n"
   ]
  },
  {
   "cell_type": "markdown",
   "metadata": {},
   "source": [
    "# Verðdreifni"
   ]
  },
  {
   "cell_type": "code",
   "execution_count": 22,
   "metadata": {},
   "outputs": [
    {
     "name": "stdout",
     "output_type": "stream",
     "text": [
      "0.042072748575384775\n",
      "0.0732689467312742\n",
      "0.053639821823890516\n"
     ]
    },
    {
     "data": {
      "text/plain": [
       "36   230\n",
       "37   247\n",
       "38   229\n",
       "39   261\n",
       "40   267\n",
       "41   251\n",
       "42   272\n",
       "Name: viðskiptaverð_isk, dtype: float64"
      ]
     },
     "execution_count": 22,
     "metadata": {},
     "output_type": "execute_result"
    }
   ],
   "source": [
    "print(Y[0:11].mad()/Y[0:11].mean())\n",
    "print(Y[24:35].mad()/Y[24:35].mean())\n",
    "print(Y[36:43].mad()/Y[36:43].mean())\n",
    "\n",
    "Y[36:43]\n"
   ]
  },
  {
   "cell_type": "markdown",
   "metadata": {},
   "source": [
    "# Running Models"
   ]
  },
  {
   "cell_type": "markdown",
   "metadata": {},
   "source": [
    "## XGB regression"
   ]
  },
  {
   "cell_type": "code",
   "execution_count": 14,
   "metadata": {
    "hide_input": true,
    "scrolled": true
   },
   "outputs": [
    {
     "ename": "NameError",
     "evalue": "name 'stop' is not defined",
     "output_type": "error",
     "traceback": [
      "\u001b[1;31m---------------------------------------------------------------------------\u001b[0m",
      "\u001b[1;31mNameError\u001b[0m                                 Traceback (most recent call last)",
      "\u001b[1;32m<ipython-input-14-e91b544a5f2e>\u001b[0m in \u001b[0;36m<module>\u001b[1;34m\u001b[0m\n\u001b[1;32m----> 1\u001b[1;33m \u001b[0mstop\u001b[0m\u001b[1;33m\u001b[0m\u001b[1;33m\u001b[0m\u001b[0m\n\u001b[0m\u001b[0;32m      2\u001b[0m \u001b[1;33m\u001b[0m\u001b[0m\n\u001b[0;32m      3\u001b[0m \u001b[1;31m#reiknað með regressor\u001b[0m\u001b[1;33m\u001b[0m\u001b[1;33m\u001b[0m\u001b[1;33m\u001b[0m\u001b[0m\n\u001b[0;32m      4\u001b[0m \u001b[0mseed\u001b[0m \u001b[1;33m=\u001b[0m \u001b[1;36m2\u001b[0m\u001b[1;33m\u001b[0m\u001b[1;33m\u001b[0m\u001b[0m\n\u001b[0;32m      5\u001b[0m \u001b[0mtest_size\u001b[0m \u001b[1;33m=\u001b[0m \u001b[1;36m0.2\u001b[0m\u001b[1;33m\u001b[0m\u001b[1;33m\u001b[0m\u001b[0m\n",
      "\u001b[1;31mNameError\u001b[0m: name 'stop' is not defined"
     ]
    }
   ],
   "source": [
    "stop\n",
    "\n",
    "#reiknað með regressor\n",
    "seed = 2\n",
    "test_size = 0.2\n",
    "X_train, X_test, y_train, y_test = train_test_split(X,\n",
    "                                                    Y,\n",
    "                                                    test_size=test_size,\n",
    "                                                    random_state=seed,\n",
    "                                                    shuffle=True)\n",
    "\n",
    "# DMatrices\n",
    "\n",
    "dtrain = xgb.DMatrix(X_train, label=y_train)\n",
    "dtest = xgb.DMatrix(X_test, label=y_test)\n",
    "\n",
    "# Building a baseline model\n",
    "# \"Learn\" the mean from the training data\n",
    "mean_train = np.mean(y_train)\n",
    "# Get predictions on the test set\n",
    "baseline_predictions = np.ones(y_test.shape) * mean_train\n",
    "# Compute MAE\n",
    "mae_baseline = mean_absolute_error(y_test, baseline_predictions)\n",
    "print(\"Baseline MAE is {:.2f}\".format(mae_baseline))\n",
    "\n",
    "params = {\n",
    "    # Parameters that we are going to tune.\n",
    "    'max_depth': 8,\n",
    "    'min_child_weight': 3,\n",
    "    'eta': 0.05,\n",
    "    'subsample': 0.7,\n",
    "    'colsample_bytree': 0.7,\n",
    "    # Other parameters\n",
    "    'objective': 'reg:squarederror',\n",
    "    'eval_metric': \"mae\"\n",
    "}\n",
    "\n",
    "xgb_regressor = xgb.train(params,\n",
    "                          dtrain,\n",
    "                          num_boost_round=2000,\n",
    "                          evals=[(dtest, \"Test\")],\n",
    "                          verbose_eval=200)\n",
    "\n",
    "y_pred = xgb_regressor.predict(dtest)"
   ]
  },
  {
   "cell_type": "code",
   "execution_count": null,
   "metadata": {},
   "outputs": [],
   "source": [
    "print(\"mae  : %.2f\" % mean_absolute_error(y_test, y_pred))\n",
    "print(\"r2   : %.2f\" % r2_score(y_test, y_pred))\n",
    "print(\"evs  : %.2f\" % explained_variance_score(y_test, y_pred))\n",
    "\n",
    "x_ax = range(len(y_test))\n",
    "plt.scatter(x_ax, y_test, s=5, color=\"blue\", label=\"raunverð\")\n",
    "plt.plot(x_ax, y_pred, lw=0.8, color=\"red\", label=\"spáverð\")\n",
    "plt.grid(True)\n",
    "plt.legend()\n",
    "plt.show()\n",
    "\n",
    "x_ax"
   ]
  },
  {
   "cell_type": "code",
   "execution_count": null,
   "metadata": {
    "scrolled": true
   },
   "outputs": [],
   "source": [
    "xgb.plot_importance(xgb_regressor,\n",
    "                    importance_type='total_gain',\n",
    "                    show_values=False,\n",
    "                    title='Mikilvægi þátta',\n",
    "                    ylabel='þættir',\n",
    "                    xlabel='einkunn')\n",
    "plt.rcParams['figure.figsize'] = [5, 5]\n",
    "plt.show()"
   ]
  },
  {
   "cell_type": "code",
   "execution_count": null,
   "metadata": {},
   "outputs": [],
   "source": [
    "import shap\n",
    "shap.initjs()\n",
    "\n",
    "explainer = shap.TreeExplainer(xgb_regressor)\n",
    "shap_values = explainer.shap_values(X_train)\n",
    "\n",
    "shap.summary_plot(shap_values, X_train, plot_type='bar')\n",
    "\n",
    "shap.dependence_plot('olíuverð_isk', shap_values, X_train)\n",
    "\n",
    "shap.force_plot(explainer.expected_value, shap_values, X_train)"
   ]
  },
  {
   "cell_type": "code",
   "execution_count": null,
   "metadata": {},
   "outputs": [],
   "source": [
    "cols = [\n",
    "    'viðskiptaverð_isk',\n",
    "    'mánuðir_eftir',\n",
    "    'erlent_verð_isk',\n",
    "    'olíuverð_isk',\n",
    "]\n",
    "\n",
    "scatterplotmatrix(df_fish_prices[cols].values,\n",
    "                  figsize=(10, 8),\n",
    "                  names=cols,\n",
    "                  alpha=0.5)\n",
    "plt.tight_layout()\n",
    "#plt.savefig('images/10_03.png', dpi=300)\n",
    "plt.show()"
   ]
  },
  {
   "cell_type": "code",
   "execution_count": null,
   "metadata": {},
   "outputs": [],
   "source": [
    "from sklearn.ensemble import RandomForestRegressor\n",
    "forest = RandomForestRegressor(n_estimators=10,\n",
    "                               criterion='mse',\n",
    "                               random_state=1,\n",
    "                               n_jobs=-1)\n",
    "forest.fit(X_train, y_train)"
   ]
  },
  {
   "cell_type": "code",
   "execution_count": null,
   "metadata": {},
   "outputs": [],
   "source": [
    "y_train_pred = forest.predict(X_train)\n",
    "y_test_pred = forest.predict(X_test)\n",
    "\n",
    "print('MSE train: %.3f, test: %.3f' % (mean_squared_error(\n",
    "    y_train, y_train_pred), mean_squared_error(y_test, y_test_pred)))\n",
    "print('R^2 train: %.3f, test: %.3f' %\n",
    "      (r2_score(y_train, y_train_pred), r2_score(y_test, y_test_pred)))"
   ]
  },
  {
   "cell_type": "markdown",
   "metadata": {},
   "source": [
    "# Línuleg aðfallsgreining"
   ]
  },
  {
   "cell_type": "code",
   "execution_count": null,
   "metadata": {},
   "outputs": [],
   "source": [
    "reg1 = GradientBoostingRegressor(random_state=1)\n",
    "reg2 = RandomForestRegressor(random_state=1)\n",
    "reg3 = LinearRegression()\n",
    "\n",
    "reg1.fit(X, Y)\n",
    "reg2.fit(X, Y)\n",
    "reg3.fit(X, Y)\n",
    "\n",
    "ereg = VotingRegressor([('gb', reg1), ('rf', reg2), ('lr', reg3)])\n",
    "ereg.fit(X, Y)"
   ]
  },
  {
   "cell_type": "code",
   "execution_count": null,
   "metadata": {},
   "outputs": [],
   "source": [
    "xt = X[:42]\n",
    "yt = Y[:42]\n",
    "\n",
    "pred1 = reg1.predict(xt)\n",
    "pred2 = reg2.predict(xt)\n",
    "pred3 = reg3.predict(xt)\n",
    "pred4 = ereg.predict(xt)\n"
   ]
  },
  {
   "cell_type": "code",
   "execution_count": null,
   "metadata": {},
   "outputs": [],
   "source": [
    "plt.figure()\n",
    "\n",
    "plt.plot(pred1, 'g*', label='GB spá')\n",
    "plt.plot(yt, 'b', label='Rauntölur')\n",
    "plt.plot(pred2, 'b^', label='Slembiskógar spá')\n",
    "plt.plot(pred3, 'ys', label='Línuleg aðfallsgreining spá')\n",
    "plt.plot(pred4, 'r*', ms=10, label='Meðaltöl spánna')\n",
    "\n",
    "plt.tick_params(axis='x',\n",
    "                which='both',\n",
    "                bottom=False,\n",
    "                top=False,\n",
    "                labelbottom=False)\n",
    "plt.ylabel('Verð sem líkönin spá fyrir leigu á aflahlutdeild')\n",
    "plt.xlabel('gögn úr þýði í stærðarröð')\n",
    "plt.legend(loc=\"best\")\n",
    "plt.title('Spár ýmissa líkana og meðaltöl þeirra')\n",
    "\n",
    "plt.show()"
   ]
  },
  {
   "cell_type": "code",
   "execution_count": null,
   "metadata": {},
   "outputs": [],
   "source": [
    "X=pd.concat([np.log(X.erlent_verð_isk),X.mánuðir_eftir, np.log(X.olíuverð_isk) ], axis=1)\n",
    "Y=np.log(Y)\n"
   ]
  },
  {
   "cell_type": "code",
   "execution_count": null,
   "metadata": {},
   "outputs": [],
   "source": [
    "pd.options.display.float_format = '{:,.3f}'.format\n"
   ]
  },
  {
   "cell_type": "code",
   "execution_count": null,
   "metadata": {},
   "outputs": [],
   "source": [
    "x_train, x_test, y_train, y_test = train_test_split(X,\n",
    "                                                    Y,\n",
    "                                                    test_size=.2,\n",
    "                                                    random_state=2)\n",
    "\n",
    "from sklearn import datasets, linear_model\n",
    "from sklearn.linear_model import RANSACRegressor\n",
    "\n",
    "# Create linear regression object\n",
    "regr = linear_model.LinearRegression()\n",
    "regr = RANSACRegressor(random_state=0).fit(X, Y)\n",
    "\n",
    "# Train the model using the training sets\n",
    "regr.fit(x_train, y_train)\n",
    "\n",
    "# Make predictions using the testing set\n",
    "y_pred = regr.predict(x_test)\n",
    "\n",
    "# The coefficients\n",
    "\n",
    "regr.score(X, Y)\n",
    "\n",
    "# The mean squared error\n",
    "print('Mean squared error: %.2f' % mean_squared_error(y_test, y_pred))\n",
    "# The coefficient of determination: 1 is perfect prediction\n",
    "print('Coefficient of determination: %.2f' % r2_score(y_test, y_pred))"
   ]
  },
  {
   "cell_type": "code",
   "execution_count": null,
   "metadata": {},
   "outputs": [],
   "source": [
    "import statsmodels.api as sm\n",
    "\n",
    "# Fit regression model\n",
    "results = sm.OLS(Y, X).fit()\n",
    "\n",
    "results.summary()"
   ]
  },
  {
   "cell_type": "markdown",
   "metadata": {},
   "source": [
    "# Markaðshlutdeild á erlendum mörkuðum"
   ]
  },
  {
   "cell_type": "code",
   "execution_count": null,
   "metadata": {},
   "outputs": [],
   "source": [
    "from matplotlib.ticker import FormatStrFormatter\n",
    "xl = pd.ExcelFile(\"R:\\\\Ráðgjöf\\\\Brim\\\\global_market_share.xlsx\")\n",
    "df_market_share = xl.parse('Ufsi')\n",
    "\n",
    "\n",
    "ax=df_market_share.sort_values('Europe').plot(kind='barh',\n",
    "                                              x='Flokkur',\n",
    "                                              y=['Ísland','Önnur Evrópulönd'],\n",
    "                                              fontsize=12,\n",
    "                                              stacked=True)\n",
    "pd.options.display.float_format = '{:,}'.format\n",
    "ax.set_xlabel(\"Lestir\")\n",
    "ax.xaxis.set_major_formatter(FormatStrFormatter('%.0f'))\n",
    "plt.xticks(rotation=45) \n",
    "\n"
   ]
  }
 ],
 "metadata": {
  "hide_input": false,
  "kernelspec": {
   "display_name": "Python 3",
   "language": "python",
   "name": "python3"
  },
  "language_info": {
   "codemirror_mode": {
    "name": "ipython",
    "version": 3
   },
   "file_extension": ".py",
   "mimetype": "text/x-python",
   "name": "python",
   "nbconvert_exporter": "python",
   "pygments_lexer": "ipython3",
   "version": "3.7.6"
  },
  "toc": {
   "base_numbering": 1,
   "nav_menu": {},
   "number_sections": true,
   "sideBar": true,
   "skip_h1_title": false,
   "title_cell": "Table of Contents",
   "title_sidebar": "Contents",
   "toc_cell": false,
   "toc_position": {
    "height": "calc(100% - 180px)",
    "left": "10px",
    "top": "150px",
    "width": "288px"
   },
   "toc_section_display": true,
   "toc_window_display": true
  }
 },
 "nbformat": 4,
 "nbformat_minor": 2
}
