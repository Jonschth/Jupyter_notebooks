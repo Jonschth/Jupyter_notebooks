{
 "cells": [
  {
   "cell_type": "code",
   "execution_count": null,
   "metadata": {},
   "outputs": [
    {
     "name": "stdout",
     "output_type": "stream",
     "text": [
      "HHI:  [385.34002616]\n"
     ]
    }
   ],
   "source": [
    "import pandas as pd \n",
    "\n",
    "xl = pd.ExcelFile(\"C:\\\\Users\\\\Lenovo\\\\Documents\\Brim\\\\data\\\\20210103 Eignatengsl.xlsx\")\n",
    "beta = xl.parse('án_yfirráða') \n",
    "\n",
    "beta.set_index('Fyrirtæki',inplace=True)\n",
    "beta.fillna(0,inplace=True)\n",
    "\n",
    "xl = pd.ExcelFile(\"C:\\\\Users\\\\Lenovo\\\\Documents\\Brim\\\\data\\\\20210103 Eignatengsl.xlsx\")\n",
    "s = xl.parse('kvótahlutdeild') \n",
    "s.set_index('Eigandi', inplace=True) \n",
    "\n",
    "\n",
    "#HHI reiknað\n",
    "sum1=0\n",
    "for j in s.iterrows():\n",
    "    for k in s.iterrows():\n",
    "        if j[1].values==k[1].values:\n",
    "            sum1 +=j[1]*k[1]*10000        \n",
    "print('HHI: ',sum1.values)\n",
    "\n",
    "\n",
    "\n",
    "\n",
    "#MHHIΔ \n",
    "sum3=0\n",
    "for j in s.iterrows():\n",
    "    for k in s.iterrows():\n",
    "        if j[1].values!=k[1].values:\n",
    "            sum4=0\n",
    "            for i in s.iterrows():\n",
    "                sum4+=beta.loc[i[0],j[0]]*beta.loc[i[0],k[0]]\n",
    "            sum5=0\n",
    "            for i in s.iterrows():\n",
    "                sum5+=beta.loc[i[0],j[0]]*beta.loc[i[0],j[0]]\n",
    "            sum3 +=j[1]*k[1]*10000*sum4/sum5\n",
    "\n",
    "print('MHHIΔ',sum3.values)\n",
    "\n",
    "\n",
    "print('MHHI:',sum1.values+sum3.values)\n"
   ]
  },
  {
   "cell_type": "code",
   "execution_count": null,
   "metadata": {},
   "outputs": [],
   "source": []
  }
 ],
 "metadata": {
  "hide_input": false,
  "kernelspec": {
   "display_name": "Python 3",
   "language": "python",
   "name": "python3"
  },
  "language_info": {
   "codemirror_mode": {
    "name": "ipython",
    "version": 3
   },
   "file_extension": ".py",
   "mimetype": "text/x-python",
   "name": "python",
   "nbconvert_exporter": "python",
   "pygments_lexer": "ipython3",
   "version": "3.8.5"
  }
 },
 "nbformat": 4,
 "nbformat_minor": 4
}
