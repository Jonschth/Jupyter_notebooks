{
 "cells": [
  {
   "cell_type": "code",
   "execution_count": 1,
   "metadata": {
    "hide_input": false
   },
   "outputs": [],
   "source": [
    "import matplotlib.pyplot as plt\n",
    "from scipy.stats import norm\n",
    "from scipy import stats\n",
    "import seaborn as sns\n",
    "import numpy as np \n",
    "import pandas as pd\n",
    "from sklearn.model_selection import train_test_split\n",
    "from sklearn import metrics\n",
    "%matplotlib inline\n",
    "pd.set_option('display.max_columns', 300)\n",
    "pd.set_option('display.max_rows', 950)\n",
    "import statsmodels.api as sm\n",
    "from statsmodels.formula.api import ols\n",
    "from sklearn.preprocessing import StandardScaler\n",
    "from sklearn.tree import DecisionTreeClassifier \n",
    "from sklearn.metrics import accuracy_score, roc_curve, auc\n",
    "from sklearn import tree \n",
    "from IPython.display import Image  \n",
    "from sklearn.metrics import confusion_matrix \n",
    "from sklearn.metrics import classification_report\n",
    "from sklearn.metrics import precision_score, recall_score, accuracy_score, f1_score\n",
    "\n",
    "import pydotplus\n",
    "from imblearn.over_sampling import SMOTE\n",
    "from tqdm import tqdm\n",
    "import time\n",
    "from sklearn.model_selection import train_test_split\n",
    "from sklearn.metrics import explained_variance_score\n",
    "from sklearn.metrics import mean_squared_error\n",
    "from sklearn.metrics import r2_score\n",
    "from sklearn.linear_model import LinearRegression\n",
    "from sklearn.metrics import mean_absolute_error\n",
    "from xgboost import XGBRegressor\n",
    "import xgboost as xgb\n",
    "import math\n",
    "\n",
    "\n",
    "import shap\n",
    "from alibi.explainers import KernelShap\n",
    "from mlxtend.plotting import scatterplotmatrix\n",
    "\n"
   ]
  },
  {
   "cell_type": "markdown",
   "metadata": {},
   "source": [
    "# Samþjöppun"
   ]
  },
  {
   "cell_type": "markdown",
   "metadata": {
    "hide_input": true
   },
   "source": [
    "## Viðskipti á markaði\n",
    "\n",
    "\n",
    "\n",
    "Hér er reiknað hve mikill hluti viðskipta fer fram yfir markaðinn. \n",
    "\n",
    "Lífleg viðskipti voru með aflamark á fiskveiðiárunum 17/18,18/19 og 19/20.  Þetta er sýnt á myndinni hér að neðan en þar kemur fram hlutfall aflamarks sem fór yfir á milli aðila. \n",
    "\n",
    "Nokkuð stór hluti aflamarks er færður á milli skipa ár hvert og eru ekki merkjanlegar breytingar á þessu magni á milli ára.  Myndin sýnir til dæmis að um 25% aflamarks í þorski er fært á milli aðila.\n"
   ]
  },
  {
   "cell_type": "code",
   "execution_count": 2,
   "metadata": {
    "hide_input": false
   },
   "outputs": [
    {
     "data": {
      "text/plain": [
       "Text(0, 0.5, 'Prósenta á markað')"
      ]
     },
     "execution_count": 2,
     "metadata": {},
     "output_type": "execute_result"
    },
    {
     "data": {
      "image/png": "[encoded data removed]",
      "text/plain": [
       "<Figure size 432x288 with 1 Axes>"
      ]
     },
     "metadata": {
      "needs_background": "light"
     },
     "output_type": "display_data"
    }
   ],
   "source": [
    "path1= \"C://Users//Lenovo//ownCloud//Radgjof//Ráðgjöf//Brim//\"\n",
    "xl = pd.ExcelFile(path1+\"Yfirlit_uthlutun_1920.xlsx\")\n",
    "df_uthlutun = xl.parse('Úthlutun snyrt') \n",
    "df_uthlutun\n",
    "\n",
    "\n",
    "df_uthlutun['p_17_18']=df_uthlutun['m_17_18']/df_uthlutun['Óslægt_17_18']/10\n",
    "df_uthlutun['p_18_19']=df_uthlutun['m_18_19']/df_uthlutun['Óslægt_18_19']/10\n",
    "df_uthlutun['p_19_20']=df_uthlutun['m_19_20']/df_uthlutun['Óslægt_19-20']/10\n",
    "\n",
    "\n",
    "df_uthlutun.head(5).plot(x=\"Kvótategund\",y=['p_17_18','p_18_19','p_19_20'], kind='bar')\n",
    "\n",
    "plt.xticks(rotation=45)\n",
    "plt.ylabel('Prósenta á markað')\n",
    "\n"
   ]
  },
  {
   "cell_type": "markdown",
   "metadata": {
    "hide_input": false
   },
   "source": [
    "Nokkuð stór hluti aflamarks er færður á milli skipa ár hvert og eru ekki merkjanlegar breytingar á þessu magni á milli ára.  Myndin sýnir til dæmis að um 25% aflamarks í þorski er færðt á milli aðila. Meirihlutinn aflamarksins er oftast færður á milli ótengdra aðila eins og eftirfarandi mynd sýnir."
   ]
  },
  {
   "cell_type": "code",
   "execution_count": 4,
   "metadata": {
    "hide_input": false
   },
   "outputs": [
    {
     "data": {
      "text/plain": [
       "Text(0, 0.5, 'Prósenta á milli óskyldra aðila')"
      ]
     },
     "execution_count": 4,
     "metadata": {},
     "output_type": "execute_result"
    },
    {
     "data": {
      "image/png": "[encoded data removed]",
      "text/plain": [
       "<Figure size 432x288 with 1 Axes>"
      ]
     },
     "metadata": {
      "needs_background": "light"
     },
     "output_type": "display_data"
    }
   ],
   "source": [
    "xl = pd.ExcelFile(path1+\"toflur_og_talnagogn_2018_2019.xlsx\")\n",
    "df_flutningur = xl.parse('Flutningur_aflamarks_1819') \n",
    "\n",
    "df_flutningur['p_19_20']=df_flutningur['m_19_20']/df_flutningur['f_s_19_20']*100\n",
    "df_flutningur['p_18_19']=df_flutningur['m_18_19']/df_flutningur['f_s_18_19']*100\n",
    "df_flutningur['p_17_18']=df_flutningur['m_17_18']/df_flutningur['f_s_17_18']*100\n",
    "df_flutningur['p_16_17']=df_flutningur['m_16_17']/df_flutningur['f_s_16_17']*100\n",
    "\n",
    "\n",
    "df_flutningur.head(5).plot(x=\"Kvótategund\",y=['p_16_17','p_17_18','p_18_19'], kind='bar')\n",
    "\n",
    "\n",
    "plt.xticks(rotation=45)\n",
    "plt.ylabel('Prósenta á milli óskyldra aðila')"
   ]
  },
  {
   "cell_type": "markdown",
   "metadata": {},
   "source": [
    "## HHI útreikningar"
   ]
  },
  {
   "cell_type": "code",
   "execution_count": 5,
   "metadata": {},
   "outputs": [],
   "source": [
    "\n",
    "pd.options.display.float_format = '{:,.1f}'.format\n",
    "\n",
    "\n",
    "xl = pd.ExcelFile(path1+\"Samthjoppun_1920_uppsjávarfiskur.xlsx\")\n",
    "df_fyrir = xl.parse('SÞ_fyrir') \n",
    "df_eftir = xl.parse('SÞ_eftir') \n",
    "df_eftir_kmb_grb = xl.parse('SÞ__eftir_kmb_grb') \n",
    "\n",
    "df_hámörk = xl.parse('Hámörk')\n",
    "\n"
   ]
  },
  {
   "cell_type": "code",
   "execution_count": 6,
   "metadata": {},
   "outputs": [],
   "source": [
    "df_fyrir = df_fyrir.drop([\"Röð\"],axis=1)\n",
    "df_fyrir = df_fyrir.drop(\"Samtals 434317446\",axis=1)\n",
    "\n",
    "df_eftir = df_eftir.drop([\"Röð\"],axis=1)\n",
    "df_eftir = df_eftir.drop(\"Samtals 434317446\",axis=1)\n",
    "\n",
    "df_eftir_kmb_grb = df_eftir_kmb_grb.drop([\"Röð\"],axis=1)\n",
    "df_eftir_kmb_grb = df_eftir_kmb_grb.drop(\"Samtals 434317446\",axis=1)\n",
    "\n",
    "\n",
    "df_fyrir.rename(columns = {'Hlutfall  %':'ÞÍG'}, inplace = True)\n",
    "df_eftir.rename(columns = {'Hlutfall  %':'ÞÍG'}, inplace = True)\n",
    "df_eftir_kmb_grb.rename(columns = {'Hlutfall  %':'ÞÍG'}, inplace = True)\n",
    "\n"
   ]
  },
  {
   "cell_type": "code",
   "execution_count": 7,
   "metadata": {},
   "outputs": [],
   "source": [
    "fiskar=list(df_fyrir.columns)\n",
    "\n",
    "fiskar.remove('Eigandi')\n",
    "fiskar.remove('ÞÍG')\n"
   ]
  },
  {
   "cell_type": "markdown",
   "metadata": {},
   "source": [
    "## Samþjöppun og samjöppunarhlutföll\n",
    "\n",
    "Hér að neðan eru HHI stuðlar og CR stuðlar reiknaðir og settir í töflu. Í töflunni kemur fram að HHI  stuðull fyrir markaðinn með þorsksígildistonn var 479 á árinu 2019.  Ef yfirráð hafa breyst í Brimi á árinu 2019 hækkar hann í 605.  \n",
    "\n",
    "Í báðum tilvikum er stuðullinn langt undir þeim mörkum sem einkenna samþjappaða markaði en þar er talað um 2500 eða meira.  Breytingin er einnig einungis 126 stig sem er nokkur en ekki umtalsverð í þessu samhengi. Hið sama má segja um CR8 stuðulinn, en þar er breytingin úr 52 í 57 sem eru 5 stig sem er ekki umtalsvert\n",
    "\n",
    "Það er því ekki unnt að komast að þeirri niðurstöðu að um samþjappaðan markað sé að ræða eða að breytingar séu umtalsverðar hafi yfirráð á annað borð breyst. Lengst til hægri má svo sjá áhrifin af kaupunum á Kambi og Grábrók.  \n",
    "\n",
    "Í MHHI útreikningum hér að neðan er farið ítarlegar yfir Kamb, Grábrók og Þórsberg.\n",
    "\n"
   ]
  },
  {
   "cell_type": "code",
   "execution_count": 8,
   "metadata": {
    "hide_input": false,
    "scrolled": false
   },
   "outputs": [
    {
     "name": "stdout",
     "output_type": "stream",
     "text": [
      "HHI fyrir þorskígildistonn fyrir 8.september 2019: 478.6\n",
      "HHI fyrir þorskígildistonn eftir 8.september 2019: 604.5\n",
      "Hækkun á HHI fyrir þorskígildistonn fyrir og eftir 8.september 2019: 125.9\n",
      "HHI fyrir þorskígildistonn fyrir kaup á Kambi og Grábrók: 604.5\n",
      "HHI fyrir þorskígildistonn eftir 8.september 2019: 627.4\n",
      "Hækkun á HHI fyrir þorskígildistonn fyrir og eftir 8.september 2019: 23.0\n"
     ]
    },
    {
     "data": {
      "text/html": [
       "<div>\n",
       "<style scoped>\n",
       "    .dataframe tbody tr th:only-of-type {\n",
       "        vertical-align: middle;\n",
       "    }\n",
       "\n",
       "    .dataframe tbody tr th {\n",
       "        vertical-align: top;\n",
       "    }\n",
       "\n",
       "    .dataframe thead th {\n",
       "        text-align: right;\n",
       "    }\n",
       "</style>\n",
       "<table border=\"1\" class=\"dataframe\">\n",
       "  <thead>\n",
       "    <tr style=\"text-align: right;\">\n",
       "      <th></th>\n",
       "      <th>Eigandi fyrir</th>\n",
       "      <th>ÞÍG fyrir</th>\n",
       "      <th>HHI fyrir</th>\n",
       "      <th>Eigandi eftir</th>\n",
       "      <th>ÞÍG eftir</th>\n",
       "      <th>HHI eftir</th>\n",
       "      <th>Eigandi</th>\n",
       "      <th>ÞÍG eftir_kmb_grb</th>\n",
       "      <th>HHI eftir_kmb_grb</th>\n",
       "    </tr>\n",
       "  </thead>\n",
       "  <tbody>\n",
       "    <tr>\n",
       "      <th>0</th>\n",
       "      <td>Brim + ÖV</td>\n",
       "      <td>11.8</td>\n",
       "      <td>138.2</td>\n",
       "      <td>Brim + ÖV+ÚR+KG</td>\n",
       "      <td>16.8</td>\n",
       "      <td>280.9</td>\n",
       "      <td>Brim + ÖV+ÚR+KG+KB+GB</td>\n",
       "      <td>17.4</td>\n",
       "      <td>304.1</td>\n",
       "    </tr>\n",
       "    <tr>\n",
       "      <th>1</th>\n",
       "      <td>Samherji+ Sæból+ÚA</td>\n",
       "      <td>9.1</td>\n",
       "      <td>82.3</td>\n",
       "      <td>Samherji+ Sæból+ÚA</td>\n",
       "      <td>9.1</td>\n",
       "      <td>82.3</td>\n",
       "      <td>Samherji+ Sæból+ÚA</td>\n",
       "      <td>9.1</td>\n",
       "      <td>82.3</td>\n",
       "    </tr>\n",
       "    <tr>\n",
       "      <th>2</th>\n",
       "      <td>FISK + SC</td>\n",
       "      <td>5.6</td>\n",
       "      <td>30.9</td>\n",
       "      <td>FISK + SC</td>\n",
       "      <td>5.6</td>\n",
       "      <td>30.9</td>\n",
       "      <td>FISK + SC</td>\n",
       "      <td>5.6</td>\n",
       "      <td>30.9</td>\n",
       "    </tr>\n",
       "    <tr>\n",
       "      <th>3</th>\n",
       "      <td>Síldarvinnslan + BH +RH</td>\n",
       "      <td>8.1</td>\n",
       "      <td>65.9</td>\n",
       "      <td>Síldarvinnslan + BH +RH</td>\n",
       "      <td>8.1</td>\n",
       "      <td>65.9</td>\n",
       "      <td>Síldarvinnslan + BH +RH</td>\n",
       "      <td>8.1</td>\n",
       "      <td>65.9</td>\n",
       "    </tr>\n",
       "    <tr>\n",
       "      <th>4</th>\n",
       "      <td>Vinnslustöðin hf.</td>\n",
       "      <td>5.0</td>\n",
       "      <td>25.3</td>\n",
       "      <td>Vinnslustöðin hf.</td>\n",
       "      <td>5.0</td>\n",
       "      <td>25.3</td>\n",
       "      <td>Vinnslustöðin hf.</td>\n",
       "      <td>5.0</td>\n",
       "      <td>25.3</td>\n",
       "    </tr>\n",
       "    <tr>\n",
       "      <th>5</th>\n",
       "      <td>Þorbjörn hf.</td>\n",
       "      <td>4.8</td>\n",
       "      <td>23.1</td>\n",
       "      <td>Þorbjörn hf.</td>\n",
       "      <td>4.8</td>\n",
       "      <td>23.1</td>\n",
       "      <td>Þorbjörn hf.</td>\n",
       "      <td>4.8</td>\n",
       "      <td>23.1</td>\n",
       "    </tr>\n",
       "    <tr>\n",
       "      <th>6</th>\n",
       "      <td>Skinney-Þinganes hf.</td>\n",
       "      <td>4.2</td>\n",
       "      <td>17.8</td>\n",
       "      <td>Skinney-Þinganes hf.</td>\n",
       "      <td>4.2</td>\n",
       "      <td>17.8</td>\n",
       "      <td>Skinney-Þinganes hf.</td>\n",
       "      <td>4.2</td>\n",
       "      <td>17.8</td>\n",
       "    </tr>\n",
       "    <tr>\n",
       "      <th>7</th>\n",
       "      <td>Útgerðarfélag Reykjavíkur hf.</td>\n",
       "      <td>4.0</td>\n",
       "      <td>15.7</td>\n",
       "      <td>Ísfélag Vestmannaeyja hf.</td>\n",
       "      <td>3.8</td>\n",
       "      <td>14.4</td>\n",
       "      <td>Ísfélag Vestmannaeyja hf.</td>\n",
       "      <td>3.8</td>\n",
       "      <td>14.4</td>\n",
       "    </tr>\n",
       "  </tbody>\n",
       "</table>\n",
       "</div>"
      ],
      "text/plain": [
       "                   Eigandi fyrir  ÞÍG fyrir  HHI fyrir  \\\n",
       "0                      Brim + ÖV       11.8      138.2   \n",
       "1             Samherji+ Sæból+ÚA        9.1       82.3   \n",
       "2                      FISK + SC        5.6       30.9   \n",
       "3        Síldarvinnslan + BH +RH        8.1       65.9   \n",
       "4              Vinnslustöðin hf.        5.0       25.3   \n",
       "5                   Þorbjörn hf.        4.8       23.1   \n",
       "6           Skinney-Þinganes hf.        4.2       17.8   \n",
       "7  Útgerðarfélag Reykjavíkur hf.        4.0       15.7   \n",
       "\n",
       "               Eigandi eftir  ÞÍG eftir  HHI eftir                    Eigandi  \\\n",
       "0            Brim + ÖV+ÚR+KG       16.8      280.9      Brim + ÖV+ÚR+KG+KB+GB   \n",
       "1         Samherji+ Sæból+ÚA        9.1       82.3         Samherji+ Sæból+ÚA   \n",
       "2                  FISK + SC        5.6       30.9                  FISK + SC   \n",
       "3    Síldarvinnslan + BH +RH        8.1       65.9    Síldarvinnslan + BH +RH   \n",
       "4          Vinnslustöðin hf.        5.0       25.3          Vinnslustöðin hf.   \n",
       "5               Þorbjörn hf.        4.8       23.1               Þorbjörn hf.   \n",
       "6       Skinney-Þinganes hf.        4.2       17.8       Skinney-Þinganes hf.   \n",
       "7  Ísfélag Vestmannaeyja hf.        3.8       14.4  Ísfélag Vestmannaeyja hf.   \n",
       "\n",
       "   ÞÍG eftir_kmb_grb  HHI eftir_kmb_grb  \n",
       "0               17.4              304.1  \n",
       "1                9.1               82.3  \n",
       "2                5.6               30.9  \n",
       "3                8.1               65.9  \n",
       "4                5.0               25.3  \n",
       "5                4.8               23.1  \n",
       "6                4.2               17.8  \n",
       "7                3.8               14.4  "
      ]
     },
     "execution_count": 8,
     "metadata": {},
     "output_type": "execute_result"
    }
   ],
   "source": [
    "HHI_fyrir = df_fyrir.ÞÍG.multiply(100).pow(2).sum()\n",
    "HHI_eftir = df_eftir.ÞÍG.multiply(100).pow(2).sum()\n",
    "HHI_eftir_kmb_grb = df_eftir_kmb_grb.ÞÍG.multiply(100).pow(2).sum()\n",
    "HHI_mismunur = HHI_eftir - HHI_fyrir\n",
    "HHI_mismunur_kmb_grb = HHI_eftir_kmb_grb - HHI_eftir\n",
    "\n",
    "CR4_fyrir = df_fyrir.ÞÍG.multiply(100).head(3).sum()\n",
    "CR4_eftir = df_eftir.ÞÍG.multiply(100).head(3).sum()\n",
    "\n",
    "print(\"HHI fyrir þorskígildistonn fyrir 8.september 2019:\", \"%.1f\" % HHI_fyrir)\n",
    "print(\"HHI fyrir þorskígildistonn eftir 8.september 2019:\", \"%.1f\" % HHI_eftir)\n",
    "print(\"Hækkun á HHI fyrir þorskígildistonn fyrir og eftir 8.september 2019:\",\n",
    "      \"%.1f\" % HHI_mismunur)\n",
    "\n",
    "print(\"HHI fyrir þorskígildistonn fyrir kaup á Kambi og Grábrók:\",\n",
    "      \"%.1f\" % HHI_eftir)\n",
    "print(\"HHI fyrir þorskígildistonn eftir 8.september 2019:\",\n",
    "      \"%.1f\" % HHI_eftir_kmb_grb)\n",
    "print(\"Hækkun á HHI fyrir þorskígildistonn fyrir og eftir 8.september 2019:\",\n",
    "      \"%.1f\" % HHI_mismunur_kmb_grb)\n",
    "\n",
    "#Töflur búnar til fyrir skýrslu:\n",
    "t_fyrir = df_fyrir\n",
    "t_fyrir['ÞÍG'] = df_fyrir.ÞÍG.multiply(100)\n",
    "t_fyrir['HHI'] = df_fyrir.ÞÍG.pow(2)\n",
    "t_fyrir = t_fyrir.drop(t_fyrir.iloc[:, 2:32], axis=1)\n",
    "t_fyrir.head(4)\n",
    "\n",
    "t_eftir = df_eftir\n",
    "t_eftir['ÞÍG'] = df_eftir.ÞÍG.multiply(100)\n",
    "t_eftir['HHI'] = df_eftir.ÞÍG.pow(2)\n",
    "t_eftir = t_eftir.drop(t_eftir.iloc[:, 2:32], axis=1)\n",
    "t_eftir.head(8)\n",
    "\n",
    "t_eftir_kmb_grb = df_eftir_kmb_grb\n",
    "t_eftir_kmb_grb['ÞÍG'] = df_eftir_kmb_grb.ÞÍG.multiply(100)\n",
    "t_eftir_kmb_grb['HHI'] = df_eftir_kmb_grb.ÞÍG.pow(2)\n",
    "t_eftir_kmb_grb = t_eftir_kmb_grb.drop(t_eftir_kmb_grb.iloc[:, 2:32], axis=1)\n",
    "t_eftir_kmb_grb.head(8)\n",
    "\n",
    "t_saman = pd.concat([t_fyrir, t_eftir, t_eftir_kmb_grb], axis=1)\n",
    "\n",
    "t_saman.columns = [\n",
    "    'Eigandi fyrir', 'ÞÍG fyrir', 'HHI fyrir', 'Eigandi eftir', 'ÞÍG eftir',\n",
    "    'HHI eftir', 'Eigandi', 'ÞÍG eftir_kmb_grb', 'HHI eftir_kmb_grb'\n",
    "]\n",
    "\n",
    "t_saman.head(8)"
   ]
  },
  {
   "cell_type": "code",
   "execution_count": null,
   "metadata": {
    "hide_input": true
   },
   "outputs": [],
   "source": [
    "HHI_listi = []\n",
    "\n",
    "for fiskur in fiskar:\n",
    "\n",
    "    df_fyrir = df_fyrir.sort_values(by=[fiskur], ascending=False)\n",
    "    df_eftir = df_eftir.sort_values(by=[fiskur], ascending=False)\n",
    "\n",
    "    cr4_fyrir = df_fyrir[fiskur].head(3).sum()\n",
    "    cr4_eftir = df_eftir[fiskur].head(3).sum()\n",
    "    cr4_mismunur = cr4_eftir - cr4_fyrir\n",
    "\n",
    "    cr8_fyrir = df_fyrir[fiskur].head(7).sum()\n",
    "    cr8_eftir = df_eftir[fiskur].head(7).sum()\n",
    "    cr8_mismunur = cr8_eftir - cr8_fyrir\n",
    "\n",
    "    HHI_fyrir = df_fyrir[fiskur].pow(2).sum()\n",
    "    HHI_eftir = df_eftir[fiskur].pow(2).sum()\n",
    "\n",
    "    HHI_mismunur = HHI_eftir - HHI_fyrir\n",
    "    HHI_mismunur\n",
    "    HHI_listi.append([\n",
    "        HHI_fyrir, HHI_eftir, HHI_mismunur, cr8_fyrir, cr8_eftir, cr8_mismunur\n",
    "    ])\n",
    "\n",
    "df4 = pd.DataFrame(HHI_listi,\n",
    "                   columns=[\n",
    "                       'HHI_fyrir', 'HHI_eftir', 'HHI breyting', 'cr8_fyrir',\n",
    "                       'cr8_eftir', 'cr8 breyting'\n",
    "                   ],\n",
    "                   index=fiskar)\n",
    "\n",
    "df4.drop([\"Skrápflúra\",\"Hlýri\", \"Sandkoli\", \"Skötuselur\", \"Blálanga\",\"Litli karfi\",\"Úthafskarfi\",\\\n",
    "          \"Langlúra\",\"Þykkvalúra\", \"Keila\", \"Langa\",\"Skarkoli\",\"Steinbítur\",\"Úthafsrækja\", \"Rækja við Snæf.nes\",\\\n",
    "         \"Arnarfj.rækja\",\"Rækja í Djúpi\", \"Humar\",\"Gulllax\",\"Djúpkarfi\",\"Grálúða\",\"Gullkarfi\",\"Ufsi\",\"Ýsa\",\"Þorskur\"],axis=0, inplace=True)\n",
    "pd.options.display.float_format = '{:,.0f}'.format\n",
    "df4.sort_values(by=['HHI breyting'], ascending=False).head(23)"
   ]
  },
  {
   "cell_type": "markdown",
   "metadata": {},
   "source": [
    "# Aðfallslíkön\n",
    "Framkvæmdir voru samsvarandi útreikningar og í skýrslu Hagfræðistofnunar 2010 og fyrir sömu fisktegundir (þorsk, ýsu, ufsa, steinbít, skarkola, löngu og skötusel).  Auk þess var þetta reiknað fyrir karfa.  Notast við nokkrar gerðir aðfallsgreiningar.  Það var niðurstaða Hagfræðistofnunar að markaður með aflamark væri skilvirkur á þeim tíma. Útreikningar okkar benda til þess að svo sé einnig nú.  Hér að neðan er tekið dæmi um þorsk en fjallað er um hinar tegundirnar í viðauka III . \n"
   ]
  },
  {
   "cell_type": "code",
   "execution_count": null,
   "metadata": {
    "hide_input": false
   },
   "outputs": [],
   "source": [
    "xl = pd.ExcelFile(\n",
    "    \"C://Users//Lenovo//ownCloud//radgjof///Ráðgjöf//Brim//fish_prices.xlsx\")\n",
    "df_fish_prices = xl.parse('Þorskur')\n",
    "\n",
    "df_fish_prices.sort_values('viðskiptaverð_isk', inplace=True)\n",
    "\n",
    "df_fish_prices.reset_index(inplace=True, drop=True)\n",
    "\n",
    "X = df_fish_prices.loc[:, 'erlent_verð_isk':'olíuverð_isk']\n",
    "Y = df_fish_prices['viðskiptaverð_isk']"
   ]
  },
  {
   "cell_type": "markdown",
   "metadata": {
    "hide_input": true
   },
   "source": [
    "## Einstakar fisktegundir\n",
    "\n",
    "Einstakar fisktegundir fyrir fiskveiðiárið 19/20 voru skoðaðar og HHI stuðlarnir reiknaðir.  "
   ]
  },
  {
   "cell_type": "markdown",
   "metadata": {},
   "source": [
    "## XGB regression"
   ]
  },
  {
   "cell_type": "code",
   "execution_count": null,
   "metadata": {
    "hide_input": false,
    "scrolled": true
   },
   "outputs": [],
   "source": [
    "seed = 2\n",
    "test_size = 0.2\n",
    "X_train, X_test, y_train, y_test = train_test_split(X,\n",
    "                                                    Y,\n",
    "                                                    test_size=test_size,\n",
    "                                                    random_state=seed,\n",
    "                                                    shuffle=True)\n",
    "\n",
    "# DMatrices\n",
    "\n",
    "dtrain = xgb.DMatrix(X_train, label=y_train)\n",
    "dtest = xgb.DMatrix(X_test, label=y_test)\n",
    "\n",
    "# Building a baseline model\n",
    "# \"Learn\" the mean from the training data\n",
    "mean_train = np.mean(y_train)\n",
    "# Get predictions on the test set\n",
    "baseline_predictions = np.ones(y_test.shape) * mean_train\n",
    "# Compute MAE\n",
    "mae_baseline = mean_absolute_error(y_test, baseline_predictions)\n",
    "print(\"Baseline MAE is {:.2f}\".format(mae_baseline))\n",
    "\n",
    "params = {\n",
    "    # Parameters that we are going to tune.\n",
    "    'max_depth': 8,\n",
    "    'min_child_weight': 3,\n",
    "    'eta': 0.1,\n",
    "    'subsample': .7,\n",
    "    'colsample_bytree': .7,\n",
    "    # Other parameters\n",
    "    'objective': 'reg:squarederror',\n",
    "    'eval_metric': \"mae\"\n",
    "}\n",
    "\n",
    "xgb_regressor = xgb.train(params,\n",
    "                          dtrain,\n",
    "                          num_boost_round=100,\n",
    "                          evals=[(dtest, \"Test\")],\n",
    "                          verbose_eval=10)\n",
    "\n",
    "y_pred = xgb_regressor.predict(dtest)"
   ]
  },
  {
   "cell_type": "code",
   "execution_count": null,
   "metadata": {},
   "outputs": [],
   "source": [
    "print(\"mae  : %.2f\" % mean_absolute_error(y_test, y_pred))\n",
    "print(\"r2   : %.2f\" % r2_score(y_test, y_pred))\n",
    "print(\"evs  : %.2f\" % explained_variance_score(y_test, y_pred))\n",
    "\n",
    "x_ax = range(len(y_test))\n",
    "plt.scatter(x_ax, y_test, s=5, color=\"blue\", label=\"original\")\n",
    "plt.plot(x_ax, y_pred, lw=0.8, color=\"red\", label=\"predicted\")\n",
    "plt.grid(True)\n",
    "plt.legend()\n",
    "plt.show()"
   ]
  },
  {
   "cell_type": "code",
   "execution_count": null,
   "metadata": {
    "scrolled": true
   },
   "outputs": [],
   "source": [
    "xgb.plot_importance(xgb_regressor,\n",
    "                    importance_type='total_gain',\n",
    "                    show_values=False,\n",
    "                    title='Mikilvægi þátta',\n",
    "                    ylabel='þættir',\n",
    "                    xlabel='einkunn')\n",
    "plt.rcParams['figure.figsize'] = [5, 5]\n",
    "plt.show()"
   ]
  },
  {
   "cell_type": "code",
   "execution_count": null,
   "metadata": {},
   "outputs": [],
   "source": [
    "shap.initjs()\n",
    "\n",
    "explainer = shap.TreeExplainer(xgb_regressor)\n",
    "shap_values = explainer.shap_values(X)\n",
    "\n",
    "shap.summary_plot(shap_values, X, plot_type='bar')\n",
    "shap.dependence_plot('erlent_verð_isk', shap_values, X)\n",
    "\n",
    "shap.force_plot(explainer.expected_value, shap_values, X)"
   ]
  },
  {
   "cell_type": "code",
   "execution_count": null,
   "metadata": {},
   "outputs": [],
   "source": [
    "import matplotlib.pyplot as plt\n",
    "from mlxtend.plotting import scatterplotmatrix"
   ]
  },
  {
   "cell_type": "code",
   "execution_count": null,
   "metadata": {},
   "outputs": [],
   "source": [
    "cols = [\n",
    "    'viðskiptaverð_isk',\n",
    "    'mánuðir_eftir',\n",
    "    'erlent_verð_isk',\n",
    "    'olíuverð_isk',\n",
    "]\n",
    "\n",
    "scatterplotmatrix(df_fish_prices[cols].values,\n",
    "                  figsize=(10, 8),\n",
    "                  names=cols,\n",
    "                  alpha=0.5)\n",
    "plt.tight_layout()\n",
    "#plt.savefig('images/10_03.png', dpi=300)\n",
    "plt.show()"
   ]
  },
  {
   "cell_type": "code",
   "execution_count": null,
   "metadata": {},
   "outputs": [],
   "source": [
    "from sklearn.ensemble import RandomForestRegressor\n",
    "forest = RandomForestRegressor(n_estimators=35,\n",
    "                               criterion='mse',\n",
    "                               random_state=1,\n",
    "                               n_jobs=-1)\n",
    "forest.fit(X_train, y_train)"
   ]
  },
  {
   "cell_type": "code",
   "execution_count": null,
   "metadata": {},
   "outputs": [],
   "source": [
    "y_train_pred = forest.predict(X_train)\n",
    "y_test_pred = forest.predict(X_test)\n",
    "\n",
    "print('MSE train: %.3f, test: %.3f' % (mean_squared_error(\n",
    "    y_train, y_train_pred), mean_squared_error(y_test, y_test_pred)))\n",
    "print('R^2 train: %.3f, test: %.3f' %\n",
    "      (r2_score(y_train, y_train_pred), r2_score(y_test, y_test_pred)))"
   ]
  },
  {
   "cell_type": "markdown",
   "metadata": {},
   "source": [
    "# Línuleg aðfallsgreining"
   ]
  },
  {
   "cell_type": "code",
   "execution_count": null,
   "metadata": {},
   "outputs": [],
   "source": [
    "from sklearn.ensemble import GradientBoostingRegressor\n",
    "from sklearn.ensemble import RandomForestRegressor\n",
    "from sklearn.ensemble import VotingRegressor\n",
    "\n",
    "# Train classifiers\n",
    "reg1 = GradientBoostingRegressor(random_state=1)\n",
    "reg2 = RandomForestRegressor(random_state=1)\n",
    "reg3 = LinearRegression()\n",
    "\n",
    "reg1.fit(X, Y)\n",
    "reg2.fit(X, Y)\n",
    "reg3.fit(X, Y)\n",
    "\n",
    "ereg = VotingRegressor([('gb', reg1), ('rf', reg2), ('lr', reg3)])\n",
    "ereg.fit(X, Y)"
   ]
  },
  {
   "cell_type": "code",
   "execution_count": null,
   "metadata": {},
   "outputs": [],
   "source": [
    "xt = X[:31]\n",
    "yt = Y[:31]\n",
    "\n",
    "pred1 = reg1.predict(xt)\n",
    "pred2 = reg2.predict(xt)\n",
    "pred3 = reg3.predict(xt)\n",
    "pred4 = ereg.predict(xt)"
   ]
  },
  {
   "cell_type": "code",
   "execution_count": null,
   "metadata": {},
   "outputs": [],
   "source": [
    "plt.figure()\n",
    "\n",
    "plt.plot(pred1, 'g*', label='GB spá')\n",
    "plt.plot(yt, 'b', label='Rauntölur')\n",
    "plt.plot(pred2, 'b^', label='SLembiskógar spá')\n",
    "plt.plot(pred3, 'ys', label='Línuleg aðfallsgreining spá')\n",
    "plt.plot(pred4, 'r*', ms=10, label='Meðaltöl spánna')\n",
    "\n",
    "plt.tick_params(axis='x',\n",
    "                which='both',\n",
    "                bottom=False,\n",
    "                top=False,\n",
    "                labelbottom=False)\n",
    "plt.ylabel('Verð sem líkönin spá fyrir leigu á aflahlutdeild')\n",
    "plt.xlabel('gögn úr þýði í stærðarröð')\n",
    "plt.legend(loc=\"best\")\n",
    "plt.title('Spár ýmissa líkana og meðaltöl þeirra')\n",
    "\n",
    "plt.show()"
   ]
  },
  {
   "cell_type": "code",
   "execution_count": null,
   "metadata": {},
   "outputs": [],
   "source": [
    "met=sm.OLS(Y,X)\n",
    "met=met.fit()\n",
    "met.summary()\n",
    "\n"
   ]
  },
  {
   "cell_type": "code",
   "execution_count": null,
   "metadata": {},
   "outputs": [],
   "source": [
    "X = pd.concat(\n",
    "    [np.log(X.erlent_verð_isk), X.mánuðir_eftir,\n",
    "     np.log(X.olíuverð_isk)],\n",
    "    axis=1)\n",
    "Y=np.log(Y)"
   ]
  },
  {
   "cell_type": "code",
   "execution_count": null,
   "metadata": {},
   "outputs": [],
   "source": [
    "met=sm.OLS(Y,X)\n",
    "met=met.fit()\n",
    "met.summary()"
   ]
  },
  {
   "cell_type": "code",
   "execution_count": null,
   "metadata": {},
   "outputs": [],
   "source": [
    "pd.options.display.float_format = '{:,.3f}'.format"
   ]
  },
  {
   "cell_type": "code",
   "execution_count": null,
   "metadata": {},
   "outputs": [],
   "source": [
    "x_train, x_test, y_train, y_test = train_test_split(X,\n",
    "                                                    Y,\n",
    "                                                    test_size=.2,\n",
    "                                                    random_state=2)\n",
    "\n",
    "from sklearn import datasets, linear_model\n",
    "\n",
    "# Create linear regression object\n",
    "regr = linear_model.LinearRegression()\n",
    "regr = RANSACRegressor(random_state=0).fit(X, Y)\n",
    "\n",
    "# Train the model using the training sets\n",
    "regr.fit(x_train, y_train)\n",
    "\n",
    "# Make predictions using the testing set\n",
    "y_pred = regr.predict(x_test)\n",
    "\n",
    "# The coefficients\n",
    "\n",
    "regr.score(X, Y)\n",
    "\n",
    "# The mean squared error\n",
    "print('Mean squared error: %.2f' % mean_squared_error(y_test, y_pred))\n",
    "# The coefficient of determination: 1 is perfect prediction\n",
    "print('Coefficient of determination: %.2f' % r2_score(y_test, y_pred))"
   ]
  }
 ],
 "metadata": {
  "celltoolbar": "Raw Cell Format",
  "hide_input": false,
  "kernelspec": {
   "display_name": "Python 3",
   "language": "python",
   "name": "python3"
  },
  "language_info": {
   "codemirror_mode": {
    "name": "ipython",
    "version": 3
   },
   "file_extension": ".py",
   "mimetype": "text/x-python",
   "name": "python",
   "nbconvert_exporter": "python",
   "pygments_lexer": "ipython3",
   "version": "3.8.5"
  },
  "toc": {
   "base_numbering": 1,
   "nav_menu": {},
   "number_sections": true,
   "sideBar": true,
   "skip_h1_title": false,
   "title_cell": "Table of Contents",
   "title_sidebar": "Contents",
   "toc_cell": false,
   "toc_position": {
    "height": "calc(100% - 180px)",
    "left": "10px",
    "top": "150px",
    "width": "288px"
   },
   "toc_section_display": true,
   "toc_window_display": true
  }
 },
 "nbformat": 4,
 "nbformat_minor": 2
}
